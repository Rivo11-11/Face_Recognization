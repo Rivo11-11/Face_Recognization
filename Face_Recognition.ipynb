{
 "cells": [
  {
   "cell_type": "markdown",
   "metadata": {
    "id": "1a1BknR__TN5"
   },
   "source": [
    "### **1. Generate the Data Matrix and the Label vector**\n"
   ]
  },
  {
   "cell_type": "code",
   "execution_count": null,
   "metadata": {
    "colab": {
     "background_save": true
    },
    "id": "xT0Id89qrWlP",
    "outputId": "2f0f41d3-74d9-4210-a931-f9bb269dddaf"
   },
   "outputs": [
    {
     "name": "stdout",
     "output_type": "stream",
     "text": [
      "Matrix shape:  (400, 10304)\n",
      "Number of persons:  40\n",
      "Y shape:  (400,)\n"
     ]
    }
   ],
   "source": [
    "## Convert images in subfolders\n",
    "import os\n",
    "import cv2\n",
    "import numpy as np\n",
    "\n",
    "image_folder_path = '/content/drive/MyDrive/FaceReco'\n",
    "image_size = (92, 112)  # Size of each image\n",
    "\n",
    "# Initialize the matrix\n",
    "matrix = np.zeros((400, image_size[0] * image_size[1]), dtype=np.uint8)\n",
    "y = np.zeros((400,), dtype=np.uint8)\n",
    "\n",
    "person_count = 0\n",
    "for person_folder in sorted(os.listdir(image_folder_path)):\n",
    "    person_folder_path = os.path.join(image_folder_path, person_folder)\n",
    "    if os.path.isdir(person_folder_path):\n",
    "        for i, image_file in enumerate(sorted(os.listdir(person_folder_path))):\n",
    "            image_path = os.path.join(person_folder_path, image_file)\n",
    "            image = cv2.imread(image_path, cv2.IMREAD_GRAYSCALE)\n",
    "            resized_image = cv2.resize(image, image_size)\n",
    "            matrix[person_count * 10 + i, :] = resized_image.flatten()\n",
    "            y[person_count * 10 + i] = person_count + 1\n",
    "\n",
    "\n",
    "        person_count += 1\n",
    "\n",
    "print(\"Matrix shape: \", matrix.shape)\n",
    "print(\"Number of persons: \",person_count)\n",
    "print(\"Y shape: \" , y.shape)\n",
    "\n",
    "\n",
    "# The code loops through each person's subfolder, reads each image,\n",
    "# resizes it to the desired dimensions (92 x 112), and flattens it into a 1D array.\n",
    "# The flattened array is then stored as a row in the matrix. The resulting matrix will have dimensions 400 x (92 x 112), where each row represents an image.\n",
    "\n",
    "\n"
   ]
  },
  {
   "cell_type": "code",
   "execution_count": null,
   "metadata": {
    "colab": {
     "base_uri": "https://localhost:8080/",
     "height": 350
    },
    "id": "J4cnqozzsWmv",
    "outputId": "c805b877-060e-4450-ffba-640bd39bf169"
   },
   "outputs": [
    {
     "ename": "KeyboardInterrupt",
     "evalue": "ignored",
     "output_type": "error",
     "traceback": [
      "\u001b[0;31m---------------------------------------------------------------------------\u001b[0m",
      "\u001b[0;31mKeyboardInterrupt\u001b[0m                         Traceback (most recent call last)",
      "\u001b[0;32m<ipython-input-10-d5df0069828e>\u001b[0m in \u001b[0;36m<cell line: 2>\u001b[0;34m()\u001b[0m\n\u001b[1;32m      1\u001b[0m \u001b[0;32mfrom\u001b[0m \u001b[0mgoogle\u001b[0m\u001b[0;34m.\u001b[0m\u001b[0mcolab\u001b[0m \u001b[0;32mimport\u001b[0m \u001b[0mdrive\u001b[0m\u001b[0;34m\u001b[0m\u001b[0;34m\u001b[0m\u001b[0m\n\u001b[0;32m----> 2\u001b[0;31m \u001b[0mdrive\u001b[0m\u001b[0;34m.\u001b[0m\u001b[0mmount\u001b[0m\u001b[0;34m(\u001b[0m\u001b[0;34m'/content/drive'\u001b[0m\u001b[0;34m)\u001b[0m\u001b[0;34m\u001b[0m\u001b[0;34m\u001b[0m\u001b[0m\n\u001b[0m",
      "\u001b[0;32m/usr/local/lib/python3.10/dist-packages/google/colab/drive.py\u001b[0m in \u001b[0;36mmount\u001b[0;34m(mountpoint, force_remount, timeout_ms, readonly)\u001b[0m\n\u001b[1;32m    101\u001b[0m \u001b[0;32mdef\u001b[0m \u001b[0mmount\u001b[0m\u001b[0;34m(\u001b[0m\u001b[0mmountpoint\u001b[0m\u001b[0;34m,\u001b[0m \u001b[0mforce_remount\u001b[0m\u001b[0;34m=\u001b[0m\u001b[0;32mFalse\u001b[0m\u001b[0;34m,\u001b[0m \u001b[0mtimeout_ms\u001b[0m\u001b[0;34m=\u001b[0m\u001b[0;36m120000\u001b[0m\u001b[0;34m,\u001b[0m \u001b[0mreadonly\u001b[0m\u001b[0;34m=\u001b[0m\u001b[0;32mFalse\u001b[0m\u001b[0;34m)\u001b[0m\u001b[0;34m:\u001b[0m\u001b[0;34m\u001b[0m\u001b[0;34m\u001b[0m\u001b[0m\n\u001b[1;32m    102\u001b[0m   \u001b[0;34m\"\"\"Mount your Google Drive at the specified mountpoint path.\"\"\"\u001b[0m\u001b[0;34m\u001b[0m\u001b[0;34m\u001b[0m\u001b[0m\n\u001b[0;32m--> 103\u001b[0;31m   return _mount(\n\u001b[0m\u001b[1;32m    104\u001b[0m       \u001b[0mmountpoint\u001b[0m\u001b[0;34m,\u001b[0m\u001b[0;34m\u001b[0m\u001b[0;34m\u001b[0m\u001b[0m\n\u001b[1;32m    105\u001b[0m       \u001b[0mforce_remount\u001b[0m\u001b[0;34m=\u001b[0m\u001b[0mforce_remount\u001b[0m\u001b[0;34m,\u001b[0m\u001b[0;34m\u001b[0m\u001b[0;34m\u001b[0m\u001b[0m\n",
      "\u001b[0;32m/usr/local/lib/python3.10/dist-packages/google/colab/drive.py\u001b[0m in \u001b[0;36m_mount\u001b[0;34m(mountpoint, force_remount, timeout_ms, ephemeral, readonly)\u001b[0m\n\u001b[1;32m    130\u001b[0m   )\n\u001b[1;32m    131\u001b[0m   \u001b[0;32mif\u001b[0m \u001b[0mephemeral\u001b[0m\u001b[0;34m:\u001b[0m\u001b[0;34m\u001b[0m\u001b[0;34m\u001b[0m\u001b[0m\n\u001b[0;32m--> 132\u001b[0;31m     _message.blocking_request(\n\u001b[0m\u001b[1;32m    133\u001b[0m         \u001b[0;34m'request_auth'\u001b[0m\u001b[0;34m,\u001b[0m \u001b[0mrequest\u001b[0m\u001b[0;34m=\u001b[0m\u001b[0;34m{\u001b[0m\u001b[0;34m'authType'\u001b[0m\u001b[0;34m:\u001b[0m \u001b[0;34m'dfs_ephemeral'\u001b[0m\u001b[0;34m}\u001b[0m\u001b[0;34m,\u001b[0m \u001b[0mtimeout_sec\u001b[0m\u001b[0;34m=\u001b[0m\u001b[0;32mNone\u001b[0m\u001b[0;34m\u001b[0m\u001b[0;34m\u001b[0m\u001b[0m\n\u001b[1;32m    134\u001b[0m     )\n",
      "\u001b[0;32m/usr/local/lib/python3.10/dist-packages/google/colab/_message.py\u001b[0m in \u001b[0;36mblocking_request\u001b[0;34m(request_type, request, timeout_sec, parent)\u001b[0m\n\u001b[1;32m    174\u001b[0m       \u001b[0mrequest_type\u001b[0m\u001b[0;34m,\u001b[0m \u001b[0mrequest\u001b[0m\u001b[0;34m,\u001b[0m \u001b[0mparent\u001b[0m\u001b[0;34m=\u001b[0m\u001b[0mparent\u001b[0m\u001b[0;34m,\u001b[0m \u001b[0mexpect_reply\u001b[0m\u001b[0;34m=\u001b[0m\u001b[0;32mTrue\u001b[0m\u001b[0;34m\u001b[0m\u001b[0;34m\u001b[0m\u001b[0m\n\u001b[1;32m    175\u001b[0m   )\n\u001b[0;32m--> 176\u001b[0;31m   \u001b[0;32mreturn\u001b[0m \u001b[0mread_reply_from_input\u001b[0m\u001b[0;34m(\u001b[0m\u001b[0mrequest_id\u001b[0m\u001b[0;34m,\u001b[0m \u001b[0mtimeout_sec\u001b[0m\u001b[0;34m)\u001b[0m\u001b[0;34m\u001b[0m\u001b[0;34m\u001b[0m\u001b[0m\n\u001b[0m",
      "\u001b[0;32m/usr/local/lib/python3.10/dist-packages/google/colab/_message.py\u001b[0m in \u001b[0;36mread_reply_from_input\u001b[0;34m(message_id, timeout_sec)\u001b[0m\n\u001b[1;32m     94\u001b[0m     \u001b[0mreply\u001b[0m \u001b[0;34m=\u001b[0m \u001b[0m_read_next_input_message\u001b[0m\u001b[0;34m(\u001b[0m\u001b[0;34m)\u001b[0m\u001b[0;34m\u001b[0m\u001b[0;34m\u001b[0m\u001b[0m\n\u001b[1;32m     95\u001b[0m     \u001b[0;32mif\u001b[0m \u001b[0mreply\u001b[0m \u001b[0;34m==\u001b[0m \u001b[0m_NOT_READY\u001b[0m \u001b[0;32mor\u001b[0m \u001b[0;32mnot\u001b[0m \u001b[0misinstance\u001b[0m\u001b[0;34m(\u001b[0m\u001b[0mreply\u001b[0m\u001b[0;34m,\u001b[0m \u001b[0mdict\u001b[0m\u001b[0;34m)\u001b[0m\u001b[0;34m:\u001b[0m\u001b[0;34m\u001b[0m\u001b[0;34m\u001b[0m\u001b[0m\n\u001b[0;32m---> 96\u001b[0;31m       \u001b[0mtime\u001b[0m\u001b[0;34m.\u001b[0m\u001b[0msleep\u001b[0m\u001b[0;34m(\u001b[0m\u001b[0;36m0.025\u001b[0m\u001b[0;34m)\u001b[0m\u001b[0;34m\u001b[0m\u001b[0;34m\u001b[0m\u001b[0m\n\u001b[0m\u001b[1;32m     97\u001b[0m       \u001b[0;32mcontinue\u001b[0m\u001b[0;34m\u001b[0m\u001b[0;34m\u001b[0m\u001b[0m\n\u001b[1;32m     98\u001b[0m     if (\n",
      "\u001b[0;31mKeyboardInterrupt\u001b[0m: "
     ]
    }
   ],
   "source": [
    "from google.colab import drive\n",
    "drive.mount('/content/drive')"
   ]
  },
  {
   "cell_type": "markdown",
   "metadata": {
    "id": "pcgyNSnnAWcu"
   },
   "source": [
    "### **2. Split the Dataset into Training and Test sets**\n",
    "\n"
   ]
  },
  {
   "cell_type": "code",
   "execution_count": null,
   "metadata": {
    "colab": {
     "base_uri": "https://localhost:8080/"
    },
    "id": "eKwc9W9vAf_B",
    "outputId": "eabbfa70-bbc3-455e-f699-f7333f16485d"
   },
   "outputs": [
    {
     "name": "stdout",
     "output_type": "stream",
     "text": [
      "Training data shape: (200, 10304)\n",
      "Testing data shape: (200, 10304)\n",
      "Training labels shape: (200,)\n",
      "Testing labels shape: (200,)\n"
     ]
    }
   ],
   "source": [
    "X_train = matrix[::2]  # Selecting the odd rows for training\n",
    "X_test = matrix[1::2]  # Selecting the even rows for testing\n",
    "\n",
    "# Splitting the labels vector\n",
    "y_train = y[::2]\n",
    "y_test = y[1::2]\n",
    "\n",
    "# Printing the shapes of the resulting datasets\n",
    "print(\"Training data shape:\", X_train.shape)\n",
    "print(\"Testing data shape:\", X_test.shape)\n",
    "print(\"Training labels shape:\", y_train.shape)\n",
    "print(\"Testing labels shape:\", y_test.shape)"
   ]
  },
  {
   "cell_type": "markdown",
   "metadata": {
    "id": "9hUW2ozDDFy3"
   },
   "source": [
    "### **3.Classification using PCA**"
   ]
  },
  {
   "cell_type": "code",
   "execution_count": null,
   "metadata": {
    "colab": {
     "base_uri": "https://localhost:8080/"
    },
    "id": "2DCOWlKWDV6S",
    "outputId": "0f2a8476-dd22-4d3e-ebbd-56b0444a3d63"
   },
   "outputs": [
    {
     "data": {
      "text/plain": [
       "(10304,)"
      ]
     },
     "execution_count": 12,
     "metadata": {},
     "output_type": "execute_result"
    }
   ],
   "source": [
    "## Step 1 get the mean vector\n",
    "mean_vector = np.mean(X_train, axis=0)\n",
    "mean_vector.shape"
   ]
  },
  {
   "cell_type": "code",
   "execution_count": null,
   "metadata": {
    "id": "_WqRRtMIi-ue"
   },
   "outputs": [],
   "source": [
    "## Step 2 center the points around (0,0)\n",
    "centered_X_train = X_train - mean_vector\n"
   ]
  },
  {
   "cell_type": "code",
   "execution_count": null,
   "metadata": {
    "id": "gNPKFszUjKQR"
   },
   "outputs": [],
   "source": [
    "## Step 3 compute covariance matrix\n",
    "covariance_matrix = np.cov(centered_X_train.T,bias=True)\n"
   ]
  },
  {
   "cell_type": "code",
   "execution_count": null,
   "metadata": {
    "colab": {
     "base_uri": "https://localhost:8080/"
    },
    "id": "WJD71r9RjbGX",
    "outputId": "0719cef0-698e-4f5a-f5c3-247a8273e681"
   },
   "outputs": [
    {
     "data": {
      "text/plain": [
       "array([ 2.86568294e+06+0.00000000e+00j,  2.04715188e+06+0.00000000e+00j,\n",
       "        1.12244083e+06+0.00000000e+00j, ...,\n",
       "       -3.95706238e-13-1.52430174e-13j, -2.10296165e-13+0.00000000e+00j,\n",
       "       -5.05237950e-13+0.00000000e+00j])"
      ]
     },
     "execution_count": 15,
     "metadata": {},
     "output_type": "execute_result"
    }
   ],
   "source": [
    "## Step 4\n",
    "eigenvalues, eigenvectors = np.linalg.eig(covariance_matrix)\n",
    "eigenvalues"
   ]
  },
  {
   "cell_type": "code",
   "execution_count": null,
   "metadata": {
    "colab": {
     "base_uri": "https://localhost:8080/"
    },
    "id": "i9QXvlAvkQ__",
    "outputId": "95868ad7-73f3-494d-8d28-48a576455541"
   },
   "outputs": [
    {
     "name": "stdout",
     "output_type": "stream",
     "text": [
      "10304\n",
      "(2865682.9403091064+0j)\n",
      "(-1.4685814900304072e-10+0j)\n"
     ]
    }
   ],
   "source": [
    "print(len(eigenvalues))\n",
    "print(max(eigenvalues))\n",
    "print(min(eigenvalues))"
   ]
  },
  {
   "cell_type": "code",
   "execution_count": null,
   "metadata": {
    "colab": {
     "base_uri": "https://localhost:8080/"
    },
    "id": "MzYBOcjdqbvj",
    "outputId": "afc777b7-9b0c-46fc-ec93-2532c25b6840"
   },
   "outputs": [
    {
     "data": {
      "text/plain": [
       "(10304, 10304)"
      ]
     },
     "execution_count": 17,
     "metadata": {},
     "output_type": "execute_result"
    }
   ],
   "source": [
    "eigenvectors.shape"
   ]
  },
  {
   "cell_type": "code",
   "execution_count": null,
   "metadata": {
    "colab": {
     "base_uri": "https://localhost:8080/"
    },
    "id": "CEBhWgStqrI8",
    "outputId": "9dbba1cb-1018-4b0d-d53d-ef1e93dcfe45"
   },
   "outputs": [
    {
     "data": {
      "text/plain": [
       "array([ 2.86568294e+06+0.j,  2.04715188e+06+0.j,  1.12244083e+06+0.j, ...,\n",
       "       -7.26779361e-11+0.j, -8.46411803e-11+0.j, -1.46858149e-10+0.j])"
      ]
     },
     "execution_count": 18,
     "metadata": {},
     "output_type": "execute_result"
    }
   ],
   "source": [
    "sorted_indices = np.argsort(eigenvalues)[::-1]\n",
    "sorted_eigenvalues = eigenvalues[sorted_indices]\n",
    "sorted_eigenvectors = eigenvectors[:, sorted_indices]\n",
    "sorted_eigenvalues"
   ]
  },
  {
   "cell_type": "code",
   "execution_count": null,
   "metadata": {
    "colab": {
     "base_uri": "https://localhost:8080/",
     "height": 526
    },
    "id": "P1kdgp-NrHuJ",
    "outputId": "58e5f251-1835-4593-a5ff-bf2b5794f803"
   },
   "outputs": [
    {
     "name": "stderr",
     "output_type": "stream",
     "text": [
      "/usr/local/lib/python3.10/dist-packages/matplotlib/cbook/__init__.py:1335: ComplexWarning: Casting complex values to real discards the imaginary part\n",
      "  return np.asarray(x, float)\n"
     ]
    },
    {
     "data": {
      "image/png": "[encoded data removed]",
      "text/plain": [
       "<Figure size 640x480 with 1 Axes>"
      ]
     },
     "metadata": {},
     "output_type": "display_data"
    },
    {
     "data": {
      "text/plain": [
       "[36, 52, 76, 115]"
      ]
     },
     "execution_count": 19,
     "metadata": {},
     "output_type": "execute_result"
    }
   ],
   "source": [
    "import matplotlib.pyplot as plt\n",
    "\n",
    "total_sum = np.sum(sorted_eigenvalues)\n",
    "desired_variance_percentages = [0.8, 0.85, 0.9, 0.95]\n",
    "num_components = []\n",
    "variance_ratios = []\n",
    "\n",
    "for desired_variance_percentage in desired_variance_percentages:\n",
    "    cumulative_sum = 0.0\n",
    "    num_pca = 0\n",
    "\n",
    "    for eigenvalue in sorted_eigenvalues:\n",
    "        cumulative_sum += eigenvalue\n",
    "        num_pca += 1\n",
    "        variance_ratio = cumulative_sum / total_sum\n",
    "\n",
    "        if variance_ratio >= desired_variance_percentage:\n",
    "            break\n",
    "\n",
    "    num_components.append(num_pca)\n",
    "    variance_ratios.append(variance_ratio)\n",
    "\n",
    "plt.plot(num_components, variance_ratios, marker='o')\n",
    "plt.xlabel('Number of Principal Components')\n",
    "plt.ylabel('Variance Percentage')\n",
    "plt.title('Variance Percentage vs. Number of Principal Components')\n",
    "plt.grid(True)\n",
    "plt.show();\n",
    "num_components"
   ]
  },
  {
   "cell_type": "code",
   "execution_count": null,
   "metadata": {
    "colab": {
     "base_uri": "https://localhost:8080/"
    },
    "id": "YhjliGIYxR5K",
    "outputId": "20f35717-3d02-43cc-9dbb-eb2d9412c401"
   },
   "outputs": [
    {
     "data": {
      "text/plain": [
       "{0.8: 36, 0.85: 52, 0.9: 76, 0.95: 115}"
      ]
     },
     "execution_count": 20,
     "metadata": {},
     "output_type": "execute_result"
    }
   ],
   "source": [
    "mymap = {}\n",
    "i = 0\n",
    "for var in desired_variance_percentages :\n",
    "  mymap[var] = num_components[i]\n",
    "  i+=1\n",
    "mymap"
   ]
  },
  {
   "cell_type": "code",
   "execution_count": null,
   "metadata": {
    "colab": {
     "base_uri": "https://localhost:8080/"
    },
    "id": "7WrZLkVovd77",
    "outputId": "5fcc02df-0e68-4cec-9b9a-45db2e4763d9"
   },
   "outputs": [
    {
     "name": "stdout",
     "output_type": "stream",
     "text": [
      "0.8\n",
      "(10304, 36)\n",
      "0.85\n",
      "(10304, 52)\n",
      "0.9\n",
      "(10304, 76)\n",
      "0.95\n",
      "(10304, 115)\n"
     ]
    }
   ],
   "source": [
    "## Selecting the top eigen_vectors for the projection matrix\n",
    "centered_X_train = X_train - mean_vector\n",
    "centered_X_test = X_test - mean_vector\n",
    "X_train_projected_matrix = []\n",
    "X_test_projected_matrix = []\n",
    "for key,value in mymap.items() :\n",
    "  print(key)\n",
    "  U = sorted_eigenvectors[:, :mymap[key]]\n",
    "  print(U.shape)\n",
    "  X_train_projected = np.dot(centered_X_train, U)\n",
    "  X_test_projected = np.dot(centered_X_test, U)\n",
    "  X_train_projected_matrix.append(X_train_projected)\n",
    "  X_test_projected_matrix.append(X_test_projected)\n"
   ]
  },
  {
   "cell_type": "markdown",
   "metadata": {
    "id": "9QevjEAG2lcy"
   },
   "source": [
    "### **4.Using Simple Classifier**"
   ]
  },
  {
   "cell_type": "code",
   "execution_count": null,
   "metadata": {
    "colab": {
     "base_uri": "https://localhost:8080/"
    },
    "id": "lAksbrsG3Ii4",
    "outputId": "4098f776-dcdd-4b37-faea-0e92ff1f6d7e"
   },
   "outputs": [
    {
     "name": "stdout",
     "output_type": "stream",
     "text": [
      "For Chosen percentage of features: 0.8\n",
      "Shape of the Matrix:  (200, 36)\n",
      "Accuracy: 0.94\n",
      "Shape of the Matrix:  (200, 36)\n",
      "Accuracy: 0.875\n",
      "Shape of the Matrix:  (200, 36)\n",
      "Accuracy: 0.825\n",
      "Shape of the Matrix:  (200, 36)\n",
      "Accuracy: 0.775\n",
      "For Chosen percentage of features: 0.85\n",
      "Shape of the Matrix:  (200, 52)\n",
      "Accuracy: 0.94\n",
      "Shape of the Matrix:  (200, 52)\n",
      "Accuracy: 0.87\n",
      "Shape of the Matrix:  (200, 52)\n",
      "Accuracy: 0.825\n",
      "Shape of the Matrix:  (200, 52)\n",
      "Accuracy: 0.755\n",
      "For Chosen percentage of features: 0.9\n",
      "Shape of the Matrix:  (200, 76)\n",
      "Accuracy: 0.94\n",
      "Shape of the Matrix:  (200, 76)\n",
      "Accuracy: 0.875\n",
      "Shape of the Matrix:  (200, 76)\n",
      "Accuracy: 0.81\n",
      "Shape of the Matrix:  (200, 76)\n",
      "Accuracy: 0.74\n",
      "For Chosen percentage of features: 0.95\n",
      "Shape of the Matrix:  (200, 115)\n",
      "Accuracy: 0.93\n",
      "Shape of the Matrix:  (200, 115)\n",
      "Accuracy: 0.865\n",
      "Shape of the Matrix:  (200, 115)\n",
      "Accuracy: 0.79\n",
      "Shape of the Matrix:  (200, 115)\n",
      "Accuracy: 0.715\n"
     ]
    }
   ],
   "source": [
    "## Use a simple qualifier\n",
    "from sklearn.neighbors import KNeighborsClassifier\n",
    "\n",
    "# Define the number of neighbors for the KNN classifier\n",
    "n_neighbors = [1,3,5,7]\n",
    "\n",
    "# Perform classification for each alpha\n",
    "accuracies = []\n",
    "for i in range(4) :a\n",
    "  print(\"For Chosen percentage of features:\",desired_variance_percentages[i])\n",
    "  for neighbor in n_neighbors:\n",
    "    print(\"Shape of the Matrix: \",X_train_projected_matrix[i].shape)\n",
    "    X_train_real = np.real(X_train_projected_matrix[i])\n",
    "    X_test_real= np.real(X_test_projected_matrix[i])\n",
    "    knn = KNeighborsClassifier(n_neighbors=neighbor)\n",
    "    knn.fit(X_train_real, y_train)\n",
    "    print(\"Accuracy:\", knn.score(X_test_real, y_test))"
   ]
  },
  {
   "cell_type": "code",
   "execution_count": null,
   "metadata": {
    "id": "c9TnGWYg8j08"
   },
   "outputs": [],
   "source": []
  }
 ],
 "metadata": {
  "colab": {
   "provenance": []
  },
  "kernelspec": {
   "display_name": "Python 3 (ipykernel)",
   "language": "python",
   "name": "python3"
  },
  "language_info": {
   "codemirror_mode": {
    "name": "ipython",
    "version": 3
   },
   "file_extension": ".py",
   "mimetype": "text/x-python",
   "name": "python",
   "nbconvert_exporter": "python",
   "pygments_lexer": "ipython3",
   "version": "3.11.3"
  }
 },
 "nbformat": 4,
 "nbformat_minor": 1
}
